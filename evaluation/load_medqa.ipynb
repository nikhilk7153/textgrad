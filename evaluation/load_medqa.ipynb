{
 "cells": [
  {
   "cell_type": "code",
   "execution_count": 6,
   "metadata": {},
   "outputs": [
    {
     "name": "stderr",
     "output_type": "stream",
     "text": [
      "Downloading readme: 100%|██████████| 754/754 [00:00<00:00, 4.31MB/s]\n",
      "Downloading data: 100%|██████████| 8.88M/8.88M [00:02<00:00, 4.19MB/s]\n",
      "Downloading data: 100%|██████████| 1.11M/1.11M [00:00<00:00, 2.55MB/s]\n",
      "Downloading data: 100%|██████████| 1.13M/1.13M [00:00<00:00, 3.66MB/s]\n",
      "Generating train split: 100%|██████████| 10178/10178 [00:00<00:00, 206110.59 examples/s]\n",
      "Generating validation split: 100%|██████████| 1272/1272 [00:00<00:00, 484749.65 examples/s]\n",
      "Generating test split: 100%|██████████| 1273/1273 [00:00<00:00, 453216.96 examples/s]"
     ]
    },
    {
     "name": "stdout",
     "output_type": "stream",
     "text": [
      "Dataset({\n",
      "    features: ['id', 'sent1', 'sent2', 'ending0', 'ending1', 'ending2', 'ending3', 'label'],\n",
      "    num_rows: 10178\n",
      "})\n"
     ]
    },
    {
     "name": "stderr",
     "output_type": "stream",
     "text": [
      "\n"
     ]
    }
   ],
   "source": [
    "from datasets import load_dataset\n",
    "\n",
    "# Load the dataset\n",
    "dataset = load_dataset(\"GBAKER/MedQA-USMLE-4-options-hf-MiniLM-IR-cs\", split=\"train\")\n",
    "print(dataset)"
   ]
  },
  {
   "cell_type": "code",
   "execution_count": 1,
   "metadata": {},
   "outputs": [],
   "source": [
    "import json\n",
    "\n",
    "with open(\"/Users/nikhilkhandekar/Documents/textgrad/MedQA_predictions.json\") as file:\n",
    "    data = json.load(file)\n",
    "\n",
    "with open(\"/Users/nikhilkhandekar/Documents/textgrad/MedQA_predictions.json\", \"w\") as file:\n",
    "    json.dump(data, file, indent=4)"
   ]
  },
  {
   "cell_type": "code",
   "execution_count": null,
   "metadata": {},
   "outputs": [],
   "source": []
  }
 ],
 "metadata": {
  "kernelspec": {
   "display_name": "textgrad",
   "language": "python",
   "name": "python3"
  },
  "language_info": {
   "codemirror_mode": {
    "name": "ipython",
    "version": 3
   },
   "file_extension": ".py",
   "mimetype": "text/x-python",
   "name": "python",
   "nbconvert_exporter": "python",
   "pygments_lexer": "ipython3",
   "version": "3.12.4"
  }
 },
 "nbformat": 4,
 "nbformat_minor": 2
}
